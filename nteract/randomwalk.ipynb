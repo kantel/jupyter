{
  "cells": [
    {
      "cell_type": "code",
      "source": [
        "from random import choice"
      ],
      "outputs": [],
      "execution_count": 6,
      "metadata": {
        "collapsed": true,
        "jupyter": {
          "source_hidden": false,
          "outputs_hidden": false
        },
        "nteract": {
          "transient": {
            "deleting": false
          }
        },
        "execution": {
          "shell.execute_reply": "2020-12-26T15:36:56.491Z",
          "iopub.status.busy": "2020-12-26T15:36:56.461Z",
          "iopub.execute_input": "2020-12-26T15:36:56.468Z",
          "iopub.status.idle": "2020-12-26T15:36:56.482Z"
        }
      }
    },
    {
      "cell_type": "code",
      "source": [
        "class RandomWalk():\n",
        "  \n",
        "  def __init__(self, num_points = 5000):\n",
        "    self.num_points = num_points\n",
        "    self.x_values = [0]\n",
        "    self.y_values = [0]\n",
        "    \n",
        "  def fill_walk(self):\n",
        "    while len(self.x_values) < self.num_points:\n",
        "      x_direction = choice([1, -1])\n",
        "      x_distance = choice([0, 1, 2, 3, 4])\n",
        "      x_step = x_direction*x_distance\n",
        "      \n",
        "      y_direction = choice([1, -1])\n",
        "      y_distance = choice([0, 1, 2, 3, 4])\n",
        "      y_step = y_direction*y_distance\n",
        "      \n",
        "      if x_step == 0 and y_step == 0:\n",
        "        continue\n",
        "        \n",
        "      next_x = self.x_values[-1] + x_step\n",
        "      next_y = self.y_values[-1] + y_step\n",
        "      \n",
        "      self.x_values.append(next_x)\n",
        "      self.y_values.append(next_y)"
      ],
      "outputs": [],
      "execution_count": 1,
      "metadata": {
        "collapsed": true,
        "jupyter": {
          "source_hidden": false,
          "outputs_hidden": false
        },
        "nteract": {
          "transient": {
            "deleting": false
          }
        },
        "execution": {
          "iopub.status.busy": "2020-12-26T15:34:50.179Z",
          "iopub.execute_input": "2020-12-26T15:34:50.186Z",
          "iopub.status.idle": "2020-12-26T15:34:50.196Z",
          "shell.execute_reply": "2020-12-26T15:34:50.203Z"
        }
      }
    },
    {
      "cell_type": "code",
      "source": [
        "import matplotlib.pyplot as plt"
      ],
      "outputs": [],
      "execution_count": 2,
      "metadata": {
        "collapsed": true,
        "jupyter": {
          "source_hidden": false,
          "outputs_hidden": false
        },
        "nteract": {
          "transient": {
            "deleting": false
          }
        },
        "execution": {
          "iopub.status.busy": "2020-12-26T15:35:14.128Z",
          "iopub.execute_input": "2020-12-26T15:35:14.133Z",
          "shell.execute_reply": "2020-12-26T15:35:15.267Z",
          "iopub.status.idle": "2020-12-26T15:35:15.273Z"
        }
      }
    },
    {
      "cell_type": "code",
      "source": [
        "rw = RandomWalk()\n",
        "rw.fill_walk()"
      ],
      "outputs": [],
      "execution_count": 7,
      "metadata": {
        "collapsed": true,
        "jupyter": {
          "source_hidden": false,
          "outputs_hidden": false
        },
        "nteract": {
          "transient": {
            "deleting": false
          }
        },
        "execution": {
          "iopub.status.busy": "2020-12-26T15:37:02.408Z",
          "iopub.execute_input": "2020-12-26T15:37:02.418Z",
          "iopub.status.idle": "2020-12-26T15:37:02.430Z",
          "shell.execute_reply": "2020-12-26T15:37:02.447Z"
        }
      }
    },
    {
      "cell_type": "code",
      "source": [
        "plt.scatter(rw.x_values, rw.y_values, s = 15)\n",
        "# plt.show()"
      ],
      "outputs": [
        {
          "output_type": "execute_result",
          "execution_count": 8,
          "data": {
            "text/plain": "<matplotlib.collections.PathCollection at 0x116fe6a10>"
          },
          "metadata": {}
        },
        {
          "output_type": "display_data",
          "data": {
            "text/plain": "<Figure size 432x288 with 1 Axes>",
            "image/png": "[encoded data removed]"
          },
          "metadata": {
            "needs_background": "light"
          }
        }
      ],
      "execution_count": 8,
      "metadata": {
        "collapsed": true,
        "jupyter": {
          "source_hidden": false,
          "outputs_hidden": false
        },
        "nteract": {
          "transient": {
            "deleting": false
          }
        },
        "execution": {
          "iopub.status.busy": "2020-12-26T15:38:17.888Z",
          "iopub.execute_input": "2020-12-26T15:38:17.896Z",
          "iopub.status.idle": "2020-12-26T15:38:18.149Z",
          "shell.execute_reply": "2020-12-26T15:38:18.240Z"
        }
      }
    },
    {
      "cell_type": "code",
      "source": [],
      "outputs": [],
      "execution_count": null,
      "metadata": {
        "collapsed": true,
        "jupyter": {
          "source_hidden": false,
          "outputs_hidden": false
        },
        "nteract": {
          "transient": {
            "deleting": false
          }
        }
      }
    }
  ],
  "metadata": {
    "kernel_info": {
      "name": "python3"
    },
    "language_info": {
      "name": "python",
      "version": "3.7.7",
      "mimetype": "text/x-python",
      "codemirror_mode": {
        "name": "ipython",
        "version": 3
      },
      "pygments_lexer": "ipython3",
      "nbconvert_exporter": "python",
      "file_extension": ".py"
    },
    "kernelspec": {
      "argv": [
        "/Users/admin/anaconda3/bin/python",
        "-m",
        "ipykernel_launcher",
        "-f",
        "{connection_file}"
      ],
      "display_name": "Python 3",
      "language": "python",
      "name": "python3"
    },
    "nteract": {
      "version": "0.27.0"
    }
  },
  "nbformat": 4,
  "nbformat_minor": 0
}