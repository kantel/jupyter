{
  "cells": [
    {
      "cell_type": "code",
      "source": [
        "import numpy as np\n",
        "import matplotlib.pyplot as plt"
      ],
      "outputs": [],
      "execution_count": 15,
      "metadata": {
        "collapsed": true,
        "jupyter": {
          "source_hidden": false,
          "outputs_hidden": false
        },
        "nteract": {
          "transient": {
            "deleting": false
          }
        },
        "execution": {
          "iopub.status.busy": "2021-01-14T19:38:44.914Z",
          "iopub.execute_input": "2021-01-14T19:38:44.925Z",
          "shell.execute_reply": "2021-01-14T19:38:44.858Z",
          "iopub.status.idle": "2021-01-14T19:38:44.934Z"
        }
      }
    },
    {
      "cell_type": "code",
      "source": [
        "left  = -2.25\n",
        "right = 0.75\n",
        "bottom = -1.5\n",
        "top    = 1.5"
      ],
      "outputs": [],
      "execution_count": 16,
      "metadata": {
        "collapsed": true,
        "jupyter": {
          "source_hidden": false,
          "outputs_hidden": false
        },
        "nteract": {
          "transient": {
            "deleting": false
          }
        },
        "execution": {
          "iopub.status.busy": "2021-01-14T19:38:44.947Z",
          "iopub.execute_input": "2021-01-14T19:38:44.959Z",
          "iopub.status.idle": "2021-01-14T19:38:44.967Z",
          "shell.execute_reply": "2021-01-14T19:38:44.871Z"
        }
      }
    },
    {
      "cell_type": "code",
      "source": [
        "size = 600\n",
        "maxlimit = 4.0\n",
        "maxiter = 100"
      ],
      "outputs": [],
      "execution_count": 17,
      "metadata": {
        "collapsed": true,
        "jupyter": {
          "source_hidden": false,
          "outputs_hidden": false
        },
        "nteract": {
          "transient": {
            "deleting": false
          }
        },
        "execution": {
          "iopub.status.busy": "2021-01-14T19:38:44.978Z",
          "iopub.execute_input": "2021-01-14T19:38:44.986Z",
          "iopub.status.idle": "2021-01-14T19:38:44.995Z",
          "shell.execute_reply": "2021-01-14T19:38:44.887Z"
        }
      }
    },
    {
      "cell_type": "code",
      "source": [
        "def mandelbrot(m, size, maxiter, maxlimit):\n",
        "  for y in range(size):\n",
        "    cr = left + y*(right - left)/size\n",
        "    for x in range(size):\n",
        "      ci = bottom + x*(top - bottom)/size\n",
        "      c = complex(cr, ci)\n",
        "      z = complex(0.0, 0.0)\n",
        "      for i in range(1, maxiter):\n",
        "        if abs(z) > maxlimit:\n",
        "          break\n",
        "        z = (z**2) + c\n",
        "        if i == (maxiter - 1):\n",
        "          m[x, y] = i "
      ],
      "outputs": [],
      "execution_count": 18,
      "metadata": {
        "collapsed": true,
        "jupyter": {
          "source_hidden": false,
          "outputs_hidden": false
        },
        "nteract": {
          "transient": {
            "deleting": false
          }
        },
        "execution": {
          "iopub.status.busy": "2021-01-14T19:38:45.005Z",
          "iopub.execute_input": "2021-01-14T19:38:45.013Z",
          "iopub.status.idle": "2021-01-14T19:38:45.021Z",
          "shell.execute_reply": "2021-01-14T19:38:44.898Z"
        }
      }
    },
    {
      "cell_type": "code",
      "source": [
        "m = np.zeros((size, size))\n",
        "mandelbrot(m, size, maxiter, maxlimit)"
      ],
      "outputs": [],
      "execution_count": 19,
      "metadata": {
        "collapsed": true,
        "jupyter": {
          "source_hidden": false,
          "outputs_hidden": false
        },
        "nteract": {
          "transient": {
            "deleting": false
          }
        },
        "execution": {
          "iopub.status.busy": "2021-01-14T19:38:45.035Z",
          "iopub.execute_input": "2021-01-14T19:38:45.042Z",
          "shell.execute_reply": "2021-01-14T19:38:47.317Z",
          "iopub.status.idle": "2021-01-14T19:38:47.278Z"
        }
      }
    },
    {
      "cell_type": "code",
      "source": [
        "plt.imshow(np.log(m), cmap = plt.cm.hot)\n"
      ],
      "outputs": [
        {
          "output_type": "stream",
          "name": "stderr",
          "text": [
            "/Users/admin/anaconda3/lib/python3.7/site-packages/ipykernel_launcher.py:1: RuntimeWarning: divide by zero encountered in log\n",
            "  \"\"\"Entry point for launching an IPython kernel.\n"
          ]
        },
        {
          "output_type": "execute_result",
          "execution_count": 20,
          "data": {
            "text/plain": "<matplotlib.image.AxesImage at 0x11a4d9d10>"
          },
          "metadata": {}
        },
        {
          "output_type": "display_data",
          "data": {
            "text/plain": "<Figure size 432x288 with 1 Axes>",
            "image/png": "[encoded data removed]"
          },
          "metadata": {
            "needs_background": "light"
          }
        }
      ],
      "execution_count": 20,
      "metadata": {
        "collapsed": true,
        "jupyter": {
          "source_hidden": false,
          "outputs_hidden": false
        },
        "nteract": {
          "transient": {
            "deleting": false
          }
        },
        "execution": {
          "iopub.status.busy": "2021-01-14T19:38:47.290Z",
          "iopub.execute_input": "2021-01-14T19:38:47.297Z",
          "iopub.status.idle": "2021-01-14T19:38:47.549Z",
          "shell.execute_reply": "2021-01-14T19:38:47.561Z"
        }
      }
    },
    {
      "cell_type": "code",
      "source": [],
      "outputs": [],
      "execution_count": null,
      "metadata": {
        "collapsed": true,
        "jupyter": {
          "source_hidden": false,
          "outputs_hidden": false
        },
        "nteract": {
          "transient": {
            "deleting": false
          }
        }
      }
    }
  ],
  "metadata": {
    "kernel_info": {
      "name": "python3"
    },
    "language_info": {
      "name": "python",
      "version": "3.7.9",
      "mimetype": "text/x-python",
      "codemirror_mode": {
        "name": "ipython",
        "version": 3
      },
      "pygments_lexer": "ipython3",
      "nbconvert_exporter": "python",
      "file_extension": ".py"
    },
    "kernelspec": {
      "argv": [
        "/Users/admin/anaconda3/bin/python",
        "-m",
        "ipykernel_launcher",
        "-f",
        "{connection_file}"
      ],
      "display_name": "Python 3",
      "language": "python",
      "name": "python3"
    },
    "nteract": {
      "version": "0.27.0"
    }
  },
  "nbformat": 4,
  "nbformat_minor": 0
}