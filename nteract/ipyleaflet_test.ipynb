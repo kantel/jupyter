{
  "cells": [
    {
      "cell_type": "code",
      "source": [
        "import ipyleaflet\n",
        "from ipyleaflet import Map"
      ],
      "outputs": [],
      "execution_count": 1,
      "metadata": {
        "collapsed": true,
        "outputExpanded": false,
        "jupyter": {
          "source_hidden": false,
          "outputs_hidden": false
        },
        "nteract": {
          "transient": {
            "deleting": false
          }
        },
        "execution": {
          "iopub.status.busy": "2020-05-19T17:45:51.150Z",
          "iopub.execute_input": "2020-05-19T17:45:51.156Z",
          "iopub.status.idle": "2020-05-19T17:45:52.278Z",
          "shell.execute_reply": "2020-05-19T17:45:52.304Z"
        }
      }
    },
    {
      "cell_type": "code",
      "source": [
        "basic_map = Map(zoom=4)"
      ],
      "outputs": [],
      "execution_count": 2,
      "metadata": {
        "collapsed": true,
        "outputExpanded": false,
        "jupyter": {
          "source_hidden": false,
          "outputs_hidden": false
        },
        "nteract": {
          "transient": {
            "deleting": false
          }
        },
        "execution": {
          "iopub.status.busy": "2020-05-19T17:45:52.286Z",
          "iopub.execute_input": "2020-05-19T17:45:52.290Z",
          "iopub.status.idle": "2020-05-19T17:45:52.346Z",
          "shell.execute_reply": "2020-05-19T17:45:52.371Z"
        }
      }
    },
    {
      "cell_type": "code",
      "source": [
        "display(basic_map)"
      ],
      "outputs": [
        {
          "output_type": "display_data",
          "data": {
            "text/plain": [
              "Map(center=[0.0, 0.0], controls=(ZoomControl(options=['position', 'zoom_in_text', 'zoom_in_title', 'zoom_out_t…"
            ],
            "application/vnd.jupyter.widget-view+json": {
              "version_major": 2,
              "version_minor": 0,
              "model_id": "66061fb3b9884e5f8f30f97ed22ad571"
            }
          },
          "metadata": {}
        }
      ],
      "execution_count": 3,
      "metadata": {
        "collapsed": true,
        "outputExpanded": false,
        "jupyter": {
          "source_hidden": false,
          "outputs_hidden": false
        },
        "nteract": {
          "transient": {
            "deleting": false
          }
        },
        "execution": {
          "iopub.status.busy": "2020-05-19T17:45:52.351Z",
          "iopub.execute_input": "2020-05-19T17:45:52.356Z",
          "iopub.status.idle": "2020-05-19T17:45:52.366Z",
          "shell.execute_reply": "2020-05-19T17:45:52.374Z"
        }
      }
    },
    {
      "cell_type": "code",
      "source": [],
      "outputs": [],
      "execution_count": null,
      "metadata": {
        "collapsed": true,
        "outputExpanded": false,
        "jupyter": {
          "source_hidden": false,
          "outputs_hidden": false
        },
        "nteract": {
          "transient": {
            "deleting": false
          }
        }
      }
    }
  ],
  "metadata": {
    "kernel_info": {
      "name": "python3"
    },
    "language_info": {
      "name": "python",
      "version": "3.7.2",
      "mimetype": "text/x-python",
      "codemirror_mode": {
        "name": "ipython",
        "version": 3
      },
      "pygments_lexer": "ipython3",
      "nbconvert_exporter": "python",
      "file_extension": ".py"
    },
    "kernelspec": {
      "argv": [
        "/Users/admin/anaconda3/bin/python",
        "-m",
        "ipykernel_launcher",
        "-f",
        "{connection_file}"
      ],
      "display_name": "Python 3",
      "language": "python",
      "name": "python3"
    },
    "nteract": {
      "version": "0.23.1"
    }
  },
  "nbformat": 4,
  "nbformat_minor": 0
}