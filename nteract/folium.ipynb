{
  "cells": [
    {
      "cell_type": "code",
      "source": [
        "import json, string\n",
        "\n",
        "import folium\n",
        "import requests\n",
        "import geocoder\n",
        "\n",
        "from folium import Map, Marker"
      ],
      "outputs": [],
      "execution_count": 1,
      "metadata": {
        "collapsed": true,
        "outputExpanded": false,
        "jupyter": {
          "source_hidden": false,
          "outputs_hidden": false
        },
        "nteract": {
          "transient": {
            "deleting": false
          }
        },
        "execution": {
          "iopub.status.busy": "2020-05-16T17:38:49.023Z",
          "iopub.execute_input": "2020-05-16T17:38:49.028Z",
          "shell.execute_reply": "2020-05-16T17:38:50.443Z",
          "iopub.status.idle": "2020-05-16T17:38:50.413Z"
        }
      }
    },
    {
      "cell_type": "code",
      "source": [
        "location = \"Bürgerstraße 66, 12347 Berlin\"\n",
        "loc = geocoder.osm(location)"
      ],
      "outputs": [],
      "execution_count": 2,
      "metadata": {
        "collapsed": true,
        "outputExpanded": false,
        "jupyter": {
          "source_hidden": false,
          "outputs_hidden": false
        },
        "nteract": {
          "transient": {
            "deleting": false
          }
        },
        "execution": {
          "iopub.status.busy": "2020-05-16T17:38:50.425Z",
          "iopub.execute_input": "2020-05-16T17:38:50.434Z",
          "iopub.status.idle": "2020-05-16T17:38:50.640Z",
          "shell.execute_reply": "2020-05-16T17:38:50.645Z"
        }
      }
    },
    {
      "cell_type": "code",
      "source": [
        "loc.json"
      ],
      "outputs": [
        {
          "output_type": "execute_result",
          "execution_count": 3,
          "data": {
            "text/plain": [
              "{'accuracy': 0.33100000000000007,\n",
              " 'address': '66, Bürgerstraße, Britz, Neukölln, 12347, Deutschland',\n",
              " 'bbox': {'northeast': [52.4617074, 13.4372793],\n",
              "  'southwest': [52.4616074, 13.4371793]},\n",
              " 'confidence': 10,\n",
              " 'country': 'Deutschland',\n",
              " 'country_code': 'de',\n",
              " 'district': 'Neukölln',\n",
              " 'housenumber': '66',\n",
              " 'importance': 0.33100000000000007,\n",
              " 'lat': 52.4616574,\n",
              " 'lng': 13.4372293,\n",
              " 'ok': True,\n",
              " 'osm_id': 2092028803,\n",
              " 'osm_type': 'node',\n",
              " 'place_id': 21071421,\n",
              " 'place_rank': 30,\n",
              " 'postal': '12347',\n",
              " 'quality': 'house',\n",
              " 'raw': {'place_id': 21071421,\n",
              "  'licence': 'Data © OpenStreetMap contributors, ODbL 1.0. https://osm.org/copyright',\n",
              "  'osm_type': 'node',\n",
              "  'osm_id': 2092028803,\n",
              "  'boundingbox': ['52.4616074', '52.4617074', '13.4371793', '13.4372793'],\n",
              "  'lat': '52.4616574',\n",
              "  'lon': '13.4372293',\n",
              "  'display_name': '66, Bürgerstraße, Britz, Neukölln, 12347, Deutschland',\n",
              "  'place_rank': 30,\n",
              "  'category': 'place',\n",
              "  'type': 'house',\n",
              "  'importance': 0.33100000000000007,\n",
              "  'address': {'house_number': '66',\n",
              "   'road': 'Bürgerstraße',\n",
              "   'suburb': 'Britz',\n",
              "   'city_district': 'Neukölln',\n",
              "   'postcode': '12347',\n",
              "   'country': 'Deutschland',\n",
              "   'country_code': 'de'}},\n",
              " 'status': 'OK',\n",
              " 'street': 'Bürgerstraße',\n",
              " 'suburb': 'Britz',\n",
              " 'type': 'house'}"
            ]
          },
          "metadata": {}
        }
      ],
      "execution_count": 3,
      "metadata": {
        "collapsed": true,
        "outputExpanded": false,
        "jupyter": {
          "source_hidden": false,
          "outputs_hidden": false
        },
        "nteract": {
          "transient": {
            "deleting": false
          }
        },
        "execution": {
          "iopub.status.busy": "2020-05-16T17:38:50.658Z",
          "iopub.execute_input": "2020-05-16T17:38:50.668Z",
          "iopub.status.idle": "2020-05-16T17:38:50.693Z",
          "shell.execute_reply": "2020-05-16T17:38:50.809Z"
        }
      }
    },
    {
      "cell_type": "code",
      "source": [
        "latlng = [loc.lat, loc.lng]\n",
        "\n",
        "my_home = Map(location = latlng, zoom_start = 14)\n",
        "my_home.add_child(Marker(location = latlng, popup = \"J&ouml;rgs Zuhause\",\n",
        "                         icon = folium.Icon(color = \"red\")))\n",
        "my_home"
      ],
      "outputs": [
        {
          "output_type": "execute_result",
          "execution_count": 4,
          "data": {
            "text/plain": [
              "<folium.folium.Map at 0x117eb1d30>"
            ],
            "text/html": [
              "<div style=\"width:100%;\"><div style=\"position:relative;width:100%;height:0;padding-bottom:60%;\"><span style=\"color:#565656\">Make this Notebook Trusted to load map: File -> Trust Notebook</span><iframe src=\"about:blank\" style=\"position:absolute;width:100%;height:100%;left:0;top:0;border:none !important;\" data-html=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 onload=\"this.contentDocument.open();this.contentDocument.write(atob(this.getAttribute('data-html')));this.contentDocument.close();\" allowfullscreen webkitallowfullscreen mozallowfullscreen></iframe></div></div>"
            ]
          },
          "metadata": {}
        }
      ],
      "execution_count": 4,
      "metadata": {
        "collapsed": true,
        "outputExpanded": false,
        "jupyter": {
          "source_hidden": false,
          "outputs_hidden": false
        },
        "nteract": {
          "transient": {
            "deleting": false
          }
        },
        "execution": {
          "iopub.status.busy": "2020-05-16T17:38:50.699Z",
          "iopub.execute_input": "2020-05-16T17:38:50.708Z",
          "iopub.status.idle": "2020-05-16T17:38:50.785Z",
          "shell.execute_reply": "2020-05-16T17:38:50.812Z"
        }
      }
    },
    {
      "cell_type": "code",
      "source": [],
      "outputs": [],
      "execution_count": null,
      "metadata": {
        "collapsed": true,
        "outputExpanded": false,
        "jupyter": {
          "source_hidden": false,
          "outputs_hidden": false
        },
        "nteract": {
          "transient": {
            "deleting": false
          }
        }
      }
    }
  ],
  "metadata": {
    "kernel_info": {
      "name": "python3"
    },
    "language_info": {
      "name": "python",
      "version": "3.7.2",
      "mimetype": "text/x-python",
      "codemirror_mode": {
        "name": "ipython",
        "version": 3
      },
      "pygments_lexer": "ipython3",
      "nbconvert_exporter": "python",
      "file_extension": ".py"
    },
    "kernelspec": {
      "argv": [
        "/Users/admin/anaconda3/bin/python",
        "-m",
        "ipykernel_launcher",
        "-f",
        "{connection_file}"
      ],
      "display_name": "Python 3",
      "language": "python",
      "name": "python3"
    },
    "nteract": {
      "version": "0.23.1"
    }
  },
  "nbformat": 4,
  "nbformat_minor": 0
}