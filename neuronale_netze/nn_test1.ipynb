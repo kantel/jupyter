{
  "cells": [
    {
      "cell_type": "code",
      "source": [
        "import numpy as np"
      ],
      "outputs": [],
      "execution_count": 1,
      "metadata": {
        "collapsed": true,
        "jupyter": {
          "source_hidden": false,
          "outputs_hidden": false
        },
        "nteract": {
          "transient": {
            "deleting": false
          }
        },
        "execution": {
          "iopub.status.busy": "2020-07-05T15:47:52.588Z",
          "iopub.execute_input": "2020-07-05T15:47:52.599Z",
          "iopub.status.idle": "2020-07-05T15:47:52.855Z",
          "shell.execute_reply": "2020-07-05T15:47:52.954Z"
        }
      }
    },
    {
      "cell_type": "code",
      "source": [
        "a = np.zeros([3, 2])\n"
      ],
      "outputs": [],
      "execution_count": 2,
      "metadata": {
        "collapsed": true,
        "jupyter": {
          "source_hidden": false,
          "outputs_hidden": false
        },
        "nteract": {
          "transient": {
            "deleting": false
          }
        },
        "execution": {
          "iopub.status.busy": "2020-07-05T15:47:52.867Z",
          "iopub.execute_input": "2020-07-05T15:47:52.875Z",
          "iopub.status.idle": "2020-07-05T15:47:52.888Z",
          "shell.execute_reply": "2020-07-05T15:47:52.960Z"
        }
      }
    },
    {
      "cell_type": "code",
      "source": [
        "a[0, 0] = 1\n",
        "a[0, 1] = 2\n",
        "a[1, 0] = 9\n",
        "a[2, 1] = 12\n",
        "print(a)"
      ],
      "outputs": [
        {
          "output_type": "stream",
          "name": "stdout",
          "text": [
            "[[ 1.  2.]\n",
            " [ 9.  0.]\n",
            " [ 0. 12.]]\n"
          ]
        }
      ],
      "execution_count": 3,
      "metadata": {
        "collapsed": true,
        "jupyter": {
          "source_hidden": false,
          "outputs_hidden": false
        },
        "nteract": {
          "transient": {
            "deleting": false
          }
        },
        "execution": {
          "iopub.status.busy": "2020-07-05T15:47:52.897Z",
          "iopub.execute_input": "2020-07-05T15:47:52.904Z",
          "iopub.status.idle": "2020-07-05T15:47:52.921Z",
          "shell.execute_reply": "2020-07-05T15:47:52.965Z"
        }
      }
    },
    {
      "cell_type": "code",
      "source": [
        "import matplotlib.pyplot as plt"
      ],
      "outputs": [],
      "execution_count": 4,
      "metadata": {
        "collapsed": true,
        "jupyter": {
          "source_hidden": false,
          "outputs_hidden": false
        },
        "nteract": {
          "transient": {
            "deleting": false
          }
        },
        "execution": {
          "iopub.status.busy": "2020-07-05T15:47:52.930Z",
          "iopub.execute_input": "2020-07-05T15:47:52.938Z",
          "shell.execute_reply": "2020-07-05T15:47:53.230Z",
          "iopub.status.idle": "2020-07-05T15:47:53.246Z"
        }
      }
    },
    {
      "cell_type": "code",
      "source": [
        "plt.imshow(a, interpolation = \"nearest\")"
      ],
      "outputs": [
        {
          "output_type": "execute_result",
          "execution_count": 5,
          "data": {
            "text/plain": "<matplotlib.image.AxesImage at 0x1154d92d0>"
          },
          "metadata": {}
        },
        {
          "output_type": "display_data",
          "data": {
            "text/plain": "<Figure size 432x288 with 1 Axes>",
            "image/png": "[encoded data removed]"
          },
          "metadata": {
            "needs_background": "light"
          }
        }
      ],
      "execution_count": 5,
      "metadata": {
        "collapsed": true,
        "jupyter": {
          "source_hidden": false,
          "outputs_hidden": false
        },
        "nteract": {
          "transient": {
            "deleting": false
          }
        },
        "execution": {
          "iopub.status.busy": "2020-07-05T15:47:53.263Z",
          "iopub.execute_input": "2020-07-05T15:47:53.272Z",
          "iopub.status.idle": "2020-07-05T15:47:53.450Z",
          "shell.execute_reply": "2020-07-05T15:47:53.460Z"
        }
      }
    },
    {
      "cell_type": "code",
      "source": [],
      "outputs": [],
      "execution_count": null,
      "metadata": {
        "collapsed": true,
        "jupyter": {
          "source_hidden": false,
          "outputs_hidden": false
        },
        "nteract": {
          "transient": {
            "deleting": false
          }
        }
      }
    }
  ],
  "metadata": {
    "kernel_info": {
      "name": "python3"
    },
    "language_info": {
      "name": "python",
      "version": "3.7.7",
      "mimetype": "text/x-python",
      "codemirror_mode": {
        "name": "ipython",
        "version": 3
      },
      "pygments_lexer": "ipython3",
      "nbconvert_exporter": "python",
      "file_extension": ".py"
    },
    "kernelspec": {
      "argv": [
        "/Users/admin/anaconda3/bin/python",
        "-m",
        "ipykernel_launcher",
        "-f",
        "{connection_file}"
      ],
      "display_name": "Python 3",
      "language": "python",
      "name": "python3"
    },
    "nteract": {
      "version": "0.24.0"
    }
  },
  "nbformat": 4,
  "nbformat_minor": 0
}