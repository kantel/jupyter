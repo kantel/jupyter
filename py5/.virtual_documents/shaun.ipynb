


%gui osx


import py5

window_width =  640     # 25x32
window_height = 400     # 20x32
patchsize = 32          # Zellgröße
cols = window_width//patchsize
rows = window_height//patchsize

no_sheeps = 15          # Anzahl Schafe

# Patchfarben
BROWN = py5.color(102, 51, 0)
GREEN = py5.color(0, 102, 0)



class Sheep:
    
    def __init__(self, x, y, im_l, im_r):
        self.x = x*patchsize
        self.y = y*patchsize
        self.im_l = im_l
        self.im_r = im_r
        choice = py5.random(100)
        if choice <= 50:
            self.im = self.im_r
        else:
            self.im = self.im_l
    
    def update(self):
        pass
    
    def display(self):
        py5.image(self.im, self.x, self.y)
        


# Farben der Schafe: blue, red, magenta, white, yellow
colors = ["blue", "red", "magenta", "white", "yellow"]
sheeps = []           # Array Schafe



def settings():
    py5.size(window_width, window_height)    



def setup():
    py5.window_title("Shaun das Schaf – es kann nur eine Farbe siegen!")
    py5.window_move(1300, 30)
    
    # Bilder laden
    ## Blaue Schafe
    blue_left = py5.load_image("data/sheep_left_blue.png")
    blue_right = py5.load_image("data/sheep_right_blue.png")
    ## Rote Schafe
    red_left = py5.load_image("data/sheep_left_red.png")
    red_right = py5.load_image("data/sheep_right_red.png")
    ## Rosa Schafe
    magenta_left = py5.load_image("data/sheep_left_magenta.png")
    magenta_right = py5.load_image("data/sheep_right_magenta.png")
    ## Weiße Schafe
    white_left = py5.load_image("data/sheep_left_white.png")
    white_right = py5.load_image("data/sheep_right_white.png")
    ## Gelbe Schafe
    yellow_left = py5.load_image("data/sheep_left_yellow.png")
    yellow_right = py5.load_image("data/sheep_right_yellow.png")
    
    # Schafe initialisieren
    for _ in range(no_sheeps):
        c = py5.random_choice(colors)
        if c == "blue":
            im_l, im_r = blue_left, blue_right
        elif c == "red":
            im_l, im_r = red_left, red_right
        elif c == "magenta":
            im_l, im_r = magenta_left, magenta_right
        elif c == "white":
            im_l, im_r = white_left, white_right
        elif c == "yellow":
            im_l, im_r = yellow_left, yellow_right
        sheep = Sheep(py5.random(2, cols - 2), py5.random(2, rows - 2), im_l, im_r)
        sheeps.append(sheep)


def draw():
    py5.background(GREEN)
    for sheep in sheeps:
        sheep.update()
        sheep.display()
        


# this is only needed to run the Sketch in Jupyter Notebooks; see note below
py5.run_sketch(block = False)
