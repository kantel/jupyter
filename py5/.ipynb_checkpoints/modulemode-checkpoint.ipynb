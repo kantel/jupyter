{
 "cells": [
  {
   "cell_type": "code",
   "execution_count": 3,
   "id": "97667574-c40e-4ae2-a056-f4f7d5858265",
   "metadata": {},
   "outputs": [],
   "source": [
    "%gui osx\n",
    "\n",
    "import py5\n",
    "\n",
    "def setup():\n",
    "    py5.size(300, 200)\n",
    "    py5.rect_mode(py5.CENTER)\n",
    "\n",
    "def draw():\n",
    "    py5.rect(py5.mouse_x, py5.mouse_y, 10, 10)\n",
    "\n",
    "py5.run_sketch()"
   ]
  },
  {
   "cell_type": "code",
   "execution_count": null,
   "id": "2fd3fc69-d522-49ae-99aa-d1a5190346a6",
   "metadata": {},
   "outputs": [],
   "source": []
  }
 ],
 "metadata": {
  "kernelspec": {
   "display_name": "Python 3 (ipykernel)",
   "language": "python",
   "name": "python3"
  },
  "language_info": {
   "codemirror_mode": {
    "name": "ipython",
    "version": 3
   },
   "file_extension": ".py",
   "mimetype": "text/x-python",
   "name": "python",
   "nbconvert_exporter": "python",
   "pygments_lexer": "ipython3",
   "version": "3.10.9"
  }
 },
 "nbformat": 4,
 "nbformat_minor": 5
}
