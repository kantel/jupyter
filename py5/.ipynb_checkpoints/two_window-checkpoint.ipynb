{
 "cells": [
  {
   "cell_type": "code",
   "execution_count": 22,
   "id": "6d5526eb-8645-4be3-9ba2-a10aadba5d13",
   "metadata": {},
   "outputs": [],
   "source": [
    "%gui osx\n",
    "from py5 import Sketch"
   ]
  },
  {
   "cell_type": "markdown",
   "id": "72ff551b-3632-4fd4-bfd4-0fe0839ab5a9",
   "metadata": {},
   "source": [
    "## Fenster 1"
   ]
  },
  {
   "cell_type": "code",
   "execution_count": 23,
   "id": "11e493a4-fd0e-4725-b17f-dc554011408c",
   "metadata": {},
   "outputs": [],
   "source": [
    "class Window_1(Sketch):\n",
    "    \n",
    "    def settings(self):\n",
    "        self.size(300, 300)\n",
    "        \n",
    "    def setup(self):\n",
    "        self.window_title(\"Fenster 1\")\n",
    "        self.rect_mode(self.CENTER)\n",
    "        \n",
    "    def draw(self):\n",
    "        self.background(49, 197, 244)\n",
    "        self.fill(248, 239, 34)\n",
    "        self.circle(self.width//2, self.height//2, 80)\n",
    "        self.fill(248, 158, 80)\n",
    "        self.rect(self.mouse_x, self.mouse_y, 40, 40)"
   ]
  },
  {
   "cell_type": "code",
   "execution_count": 24,
   "id": "4962a74e-5d1c-4628-bc44-fad1416e86a3",
   "metadata": {},
   "outputs": [
    {
     "name": "stdout",
     "output_type": "stream",
     "text": [
      "Start Fenster 1\n"
     ]
    }
   ],
   "source": [
    "window_1 = Window_1()\n",
    "window_1.run_sketch(py5_options=[\"--location=1300,30\"])"
   ]
  },
  {
   "cell_type": "code",
   "execution_count": 25,
   "id": "8dda98fb-5d0e-464c-baac-3b1cc6d178e9",
   "metadata": {},
   "outputs": [],
   "source": [
    "window_1.println(\"Start Fenster 1\")"
   ]
  },
  {
   "cell_type": "markdown",
   "id": "82995cbc-e295-441c-b971-226c5438a72f",
   "metadata": {},
   "source": [
    "## Fenster 2"
   ]
  },
  {
   "cell_type": "code",
   "execution_count": 26,
   "id": "25e9c259-a33d-4e53-bf27-1d60dd8d1385",
   "metadata": {},
   "outputs": [],
   "source": [
    "class Window_2(Sketch):\n",
    "    \n",
    "    def settings(self):\n",
    "        self.size(300, 300)\n",
    "        \n",
    "    def setup(self):\n",
    "        self.window_title(\"Fenster 2\")\n",
    "        \n",
    "    def draw(self):\n",
    "        self.background(98, 199, 119)\n",
    "        self.fill(240, 99, 164)\n",
    "        self.rect(self.width//2 - 50, self.height//2 - 10, 100, 60)\n",
    "        self.fill(240, 80, 37)\n",
    "        self.circle(self.mouse_x, self.mouse_y, 40)"
   ]
  },
  {
   "cell_type": "code",
   "execution_count": 27,
   "id": "2a31fabd-b997-414d-9f8b-4684e9bd37e1",
   "metadata": {},
   "outputs": [
    {
     "name": "stdout",
     "output_type": "stream",
     "text": [
      "Start Fenster 2\n"
     ]
    }
   ],
   "source": [
    "window_2 = Window_2()\n",
    "window_2.run_sketch(py5_options=[\"--location=1500,360\"])"
   ]
  },
  {
   "cell_type": "code",
   "execution_count": 28,
   "id": "47a9231f-6258-4d1f-a40a-04e996f95a59",
   "metadata": {},
   "outputs": [],
   "source": [
    "window_2.println(\"Start Fenster 2\")"
   ]
  }
 ],
 "metadata": {
  "kernelspec": {
   "display_name": "Python 3 (ipykernel)",
   "language": "python",
   "name": "python3"
  },
  "language_info": {
   "codemirror_mode": {
    "name": "ipython",
    "version": 3
   },
   "file_extension": ".py",
   "mimetype": "text/x-python",
   "name": "python",
   "nbconvert_exporter": "python",
   "pygments_lexer": "ipython3",
   "version": "3.10.9"
  }
 },
 "nbformat": 4,
 "nbformat_minor": 5
}
