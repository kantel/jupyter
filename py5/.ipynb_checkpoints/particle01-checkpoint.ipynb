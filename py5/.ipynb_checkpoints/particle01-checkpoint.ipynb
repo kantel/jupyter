{
 "cells": [
  {
   "cell_type": "markdown",
   "id": "6ab9f471-6376-485d-9238-3d8e29b1c0f7",
   "metadata": {},
   "source": [
    "## Ein einfaches Partikelsystem in Py5"
   ]
  },
  {
   "cell_type": "markdown",
   "id": "d1439b08-3492-45d3-a811-4b1dc07e0ddc",
   "metadata": {},
   "source": [
    "Nach *Daniel Shiffman*: The Nature of Code (2012), p. 143pp\n",
    "Python-Port: *Jörg Kantel*, 2023"
   ]
  },
  {
   "cell_type": "code",
   "execution_count": 1,
   "id": "80f3190a-ccd4-45a6-ae12-8d81516b1a1b",
   "metadata": {},
   "outputs": [],
   "source": [
    "WIDTH, HEIGHT = 500, 500\n",
    "START_X, START_Y = 250, 70"
   ]
  },
  {
   "cell_type": "markdown",
   "id": "07dd4cc4-a257-443d-a4c8-b6aec39b041d",
   "metadata": {},
   "source": [
    "**Coding Train Farbpalette**"
   ]
  },
  {
   "cell_type": "code",
   "execution_count": 2,
   "id": "566487e2-9d56-4d50-a48b-d1ae76dcfc28",
   "metadata": {},
   "outputs": [],
   "source": [
    "codingtrain = [(240, 80, 37), (248, 158, 80), (248, 239, 34) , (240, 99, 164),\n",
    "               (146, 82, 161), (129, 122, 198), (98, 199, 119)]"
   ]
  },
  {
   "cell_type": "markdown",
   "id": "048f61e9-4931-4a68-9380-d5dbac79dfa4",
   "metadata": {},
   "source": [
    "### Klassen"
   ]
  },
  {
   "cell_type": "code",
   "execution_count": 3,
   "id": "70100e2b-8b6b-4fcb-8e96-c804a502ff1f",
   "metadata": {},
   "outputs": [],
   "source": [
    "class Particle():\n",
    "    \n",
    "    def __init__(self, _x, _y):\n",
    "        self.loc = Py5Vector(_x, _y)\n",
    "        self.acc = Py5Vector(0, 0.05)\n",
    "        self.vel = Py5Vector(random(-1.0, 1.0), random(-2.0, 0.0))\n",
    "        self.col = random_choice(codingtrain)\n",
    "        self.lifespan = 255.0\n",
    "        self.d = 20\n",
    "    \n",
    "    def run(self):\n",
    "        self.update()\n",
    "        self.show()\n",
    "        \n",
    "    def update(self):\n",
    "        self.vel += self.acc\n",
    "        self.loc += self.vel\n",
    "        self.lifespan -= random(0.5, 1.0)*2\n",
    "    \n",
    "    def show(self):\n",
    "        stroke(0, self.lifespan)\n",
    "        fill(self.col[0], self.col[1], self.col[2], self.lifespan)\n",
    "        circle(self.loc.x, self.loc.y, self.d)\n",
    "        \n",
    "    def is_not_alive(self):\n",
    "        if self.lifespan <= 0:\n",
    "            return True\n",
    "        else:\n",
    "            return False"
   ]
  },
  {
   "cell_type": "code",
   "execution_count": null,
   "id": "fd651fcd-4de1-4b30-9eb4-2404664b98ad",
   "metadata": {},
   "outputs": [],
   "source": [
    "    "
   ]
  },
  {
   "cell_type": "code",
   "execution_count": 4,
   "id": "97382d00-a3a2-406a-81b3-021696a735ee",
   "metadata": {},
   "outputs": [],
   "source": [
    "class RectParticle(Particle):\n",
    "    \n",
    "    def __init__(self, _x, _y):\n",
    "        Particle.__init__(self, _x, _y)\n",
    "        rect_mode(CENTER)\n",
    "        self.rota = PI/3\n",
    "    \n",
    "    def show(self):\n",
    "        stroke(0, self.lifespan)\n",
    "        fill(self.col[0], self.col[1], self.col[2], self.lifespan)\n",
    "        with push_matrix():\n",
    "            translate(self.loc.x, self.loc.y)\n",
    "            rotate(self.rota)\n",
    "            rect(0, 0, 20, 20)\n",
    "        self.rota += random(0.02, .10)"
   ]
  },
  {
   "cell_type": "markdown",
   "id": "41b172d0-5d99-4456-9cdd-19df0952e72a",
   "metadata": {
    "tags": []
   },
   "source": [
    "### Hauptprogramm"
   ]
  },
  {
   "cell_type": "code",
   "execution_count": 5,
   "id": "e90c5b2a-41a5-4217-a963-e0ee23cea4a8",
   "metadata": {},
   "outputs": [],
   "source": [
    "particles = []"
   ]
  },
  {
   "cell_type": "code",
   "execution_count": 6,
   "id": "d68184c4-0da3-4f9a-8c60-9181595b49bf",
   "metadata": {},
   "outputs": [],
   "source": [
    "def setup():\n",
    "    size(WIDTH, HEIGHT)\n",
    "    window_move(1400, 30)\n",
    "    window_title(\"Partikelsystem 1\")"
   ]
  },
  {
   "cell_type": "code",
   "execution_count": 7,
   "id": "8467ffd3-b92d-477a-8e1e-60d6850e928c",
   "metadata": {},
   "outputs": [],
   "source": [
    "def draw():\n",
    "    background(49, 197, 244)   # Hellblau\n",
    "    change = random(10)\n",
    "    if change <= 5:\n",
    "        particles.append(Particle(START_X, START_Y))\n",
    "    else:\n",
    "        particles.append(RectParticle(START_X, START_Y))\n",
    "    for i in range(len(particles) - 1, 0, -1):\n",
    "        particles[i].run()\n",
    "        if particles[i].is_not_alive():\n",
    "            particles.pop(i)"
   ]
  },
  {
   "cell_type": "code",
   "execution_count": 8,
   "id": "43b600e2-d5eb-468a-9cf7-979536a5f4e0",
   "metadata": {},
   "outputs": [],
   "source": [
    "run_sketch()"
   ]
  },
  {
   "cell_type": "code",
   "execution_count": null,
   "id": "06216671-e7b4-404a-a06f-965c7f099491",
   "metadata": {},
   "outputs": [],
   "source": []
  }
 ],
 "metadata": {
  "kernelspec": {
   "display_name": "Python 3 (ipykernel)",
   "language": "python",
   "name": "python3"
  },
  "language_info": {
   "codemirror_mode": {
    "name": "ipython",
    "version": 3
   },
   "file_extension": ".py",
   "mimetype": "text/x-python",
   "name": "python",
   "nbconvert_exporter": "python",
   "pygments_lexer": "ipython3",
   "version": "3.11.9"
  }
 },
 "nbformat": 4,
 "nbformat_minor": 5
}
