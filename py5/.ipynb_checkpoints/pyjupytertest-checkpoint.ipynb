{
 "cells": [
  {
   "cell_type": "code",
   "execution_count": 3,
   "id": "fccac8b4-9c84-46e0-bfd4-ae371cec10bd",
   "metadata": {},
   "outputs": [
    {
     "name": "stderr",
     "output_type": "stream",
     "text": [
      "py5 encountered an error in your code:File \"/var/folders/x3/3gc1k1nj6gs7rqr47b_188ch0000gn/T/ipykernel_2386/1538612126.py\", line 15, in draw\n",
      "    13   def draw():\n",
      "    14       py5.fill(py5.random_int(50, 200), py5.random_int(50, 200),\n",
      "--> 15                py5.random_int(50, 200), a)\n",
      "    16       py5.rect(py5.mouse_x, py5.mouse_y, rect_size, rect_size)\n",
      "\n",
      "NameError: name 'a' is not defined\n"
     ]
    }
   ],
   "source": [
    "%gui osx\n",
    "\n",
    "import py5\n",
    "\n",
    "rect_size = 40\n",
    "a = 180            # alpha\n",
    "\n",
    "def setup():\n",
    "    py5.size(400, 400)\n",
    "    py5.background(233, 195, 91)\n",
    "    py5.rect_mode(py5.CENTER)\n",
    "\n",
    "def draw():\n",
    "    py5.fill(py5.random_int(50, 200), py5.random_int(50, 200),\n",
    "             py5.random_int(50, 200), a)\n",
    "    py5.rect(py5.mouse_x, py5.mouse_y, rect_size, rect_size)\n",
    "\n",
    "py5.run_sketch()"
   ]
  },
  {
   "cell_type": "code",
   "execution_count": null,
   "id": "d4286e58-434b-4216-877c-db365284c3ff",
   "metadata": {},
   "outputs": [],
   "source": []
  },
  {
   "cell_type": "code",
   "execution_count": null,
   "id": "0564c813-ea48-41fa-b5b7-6bf8e1d8f51d",
   "metadata": {},
   "outputs": [],
   "source": []
  }
 ],
 "metadata": {
  "kernelspec": {
   "display_name": "Python 3 (ipykernel)",
   "language": "python",
   "name": "python3"
  },
  "language_info": {
   "codemirror_mode": {
    "name": "ipython",
    "version": 3
   },
   "file_extension": ".py",
   "mimetype": "text/x-python",
   "name": "python",
   "nbconvert_exporter": "python",
   "pygments_lexer": "ipython3",
   "version": "3.8.13"
  }
 },
 "nbformat": 4,
 "nbformat_minor": 5
}
