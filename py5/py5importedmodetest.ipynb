{
 "cells": [
  {
   "cell_type": "code",
   "execution_count": 1,
   "id": "c07264be-298b-4999-a2e7-5e9d1467899c",
   "metadata": {},
   "outputs": [
    {
     "name": "stdout",
     "output_type": "stream",
     "text": [
      "I did it, Babe!\n"
     ]
    }
   ],
   "source": [
    "def setup():\n",
    "    size(400, 400)\n",
    "    window_title(\"With with (Py5 Imported Mode in Jupyter)\")\n",
    "    background(233, 195, 91)\n",
    "    no_loop()\n",
    "\n",
    "\n",
    "def draw():\n",
    "    fill(color(25, 149, 156))\n",
    "    circle(100, 100, 50)\n",
    "\n",
    "    with push_style():\n",
    "        fill(color(211, 132, 65))\n",
    "        stroke_weight(5)\n",
    "        circle(200, 200, 50)\n",
    "    circle(300, 300, 50)\n",
    "    \n",
    "    print(\"I did it, Babe!\")\n",
    "    \n",
    "run_sketch()"
   ]
  },
  {
   "cell_type": "code",
   "execution_count": null,
   "id": "53596574-9edf-440d-ab18-b459f3c5b95f",
   "metadata": {},
   "outputs": [],
   "source": []
  }
 ],
 "metadata": {
  "kernelspec": {
   "display_name": "py5",
   "language": "python",
   "name": "py5"
  },
  "language_info": {
   "codemirror_mode": {
    "name": "ipython",
    "version": 3
   },
   "file_extension": ".py",
   "mimetype": "text/x-python",
   "name": "python",
   "nbconvert_exporter": "python",
   "pygments_lexer": "ipython3",
   "version": "3.8.13"
  }
 },
 "nbformat": 4,
 "nbformat_minor": 5
}
