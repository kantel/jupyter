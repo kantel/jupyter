{
 "cells": [
  {
   "cell_type": "code",
   "execution_count": 2,
   "metadata": {},
   "outputs": [
    {
     "ename": "NameError",
     "evalue": "name 'run_sketch' is not defined",
     "output_type": "error",
     "traceback": [
      "\u001b[0;31m---------------------------------------------------------------------------\u001b[0m",
      "\u001b[0;31mNameError\u001b[0m                                 Traceback (most recent call last)",
      "Cell \u001b[0;32mIn[2], line 11\u001b[0m\n\u001b[1;32m      8\u001b[0m     rect(mouse_x, mouse_y, \u001b[39m10\u001b[39m, \u001b[39m10\u001b[39m)\n\u001b[1;32m     10\u001b[0m \u001b[39m# this is only needed to run the Sketch in Jupyter Notebooks; see note below\u001b[39;00m\n\u001b[0;32m---> 11\u001b[0m run_sketch(block \u001b[39m=\u001b[39m \u001b[39mFalse\u001b[39;00m)\n",
      "\u001b[0;31mNameError\u001b[0m: name 'run_sketch' is not defined"
     ]
    }
   ],
   "source": [
    "%gui osx\n",
    "\n",
    "def setup():\n",
    "    size(300, 200)\n",
    "    rect_mode(CENTER)\n",
    "\n",
    "def draw():\n",
    "    rect(mouse_x, mouse_y, 10, 10)\n",
    "\n",
    "# this is only needed to run the Sketch in Jupyter Notebooks; see note below\n",
    "run_sketch(block = False)"
   ]
  }
 ],
 "metadata": {
  "kernelspec": {
   "display_name": "Python 3 (ipykernel)",
   "language": "python",
   "name": "python3"
  },
  "language_info": {
   "codemirror_mode": {
    "name": "ipython",
    "version": 3
   },
   "file_extension": ".py",
   "mimetype": "text/x-python",
   "name": "python",
   "nbconvert_exporter": "python",
   "pygments_lexer": "ipython3",
   "version": "3.10.9"
  }
 },
 "nbformat": 4,
 "nbformat_minor": 4
}
