{
 "cells": [
  {
   "cell_type": "code",
   "execution_count": 1,
   "id": "fccac8b4-9c84-46e0-bfd4-ae371cec10bd",
   "metadata": {},
   "outputs": [],
   "source": [
    "%gui osx\n",
    "\n",
    "import py5\n",
    "\n",
    "def setup():\n",
    "    py5.size(200, 200)\n",
    "    py5.rect_mode(py5.CENTER)\n",
    "\n",
    "def draw():\n",
    "    py5.rect(py5.mouse_x, py5.mouse_y, 10, 10)\n",
    "\n",
    "py5.run_sketch()"
   ]
  },
  {
   "cell_type": "code",
   "execution_count": null,
   "id": "d4286e58-434b-4216-877c-db365284c3ff",
   "metadata": {},
   "outputs": [],
   "source": []
  },
  {
   "cell_type": "code",
   "execution_count": null,
   "id": "0564c813-ea48-41fa-b5b7-6bf8e1d8f51d",
   "metadata": {},
   "outputs": [],
   "source": []
  }
 ],
 "metadata": {
  "kernelspec": {
   "display_name": "Python 3 (ipykernel)",
   "language": "python",
   "name": "python3"
  },
  "language_info": {
   "codemirror_mode": {
    "name": "ipython",
    "version": 3
   },
   "file_extension": ".py",
   "mimetype": "text/x-python",
   "name": "python",
   "nbconvert_exporter": "python",
   "pygments_lexer": "ipython3",
   "version": "3.8.13"
  }
 },
 "nbformat": 4,
 "nbformat_minor": 5
}
