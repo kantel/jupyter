{
 "cells": [
  {
   "cell_type": "code",
   "execution_count": null,
   "metadata": {},
   "outputs": [],
   "source": [
    "%gui osx\n",
    "\n",
    "def setup():\n",
    "    size(300, 200)\n",
    "    rect_mode(CENTER)\n",
    "\n",
    "def draw():\n",
    "    rect(mouse_x, mouse_y, 10, 10)\n",
    "\n",
    "# this is only needed to run the Sketch in Jupyter Notebooks; see note below\n",
    "run_sketch(block = False)"
   ]
  }
 ],
 "metadata": {
  "kernelspec": {
   "display_name": "Python 3 (ipykernel)",
   "language": "python",
   "name": "python3"
  },
  "language_info": {
   "codemirror_mode": {
    "name": "ipython",
    "version": 3
   },
   "file_extension": ".py",
   "mimetype": "text/x-python",
   "name": "python",
   "nbconvert_exporter": "python",
   "pygments_lexer": "ipython3",
   "version": "3.10.9"
  }
 },
 "nbformat": 4,
 "nbformat_minor": 4
}
