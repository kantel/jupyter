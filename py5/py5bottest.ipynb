{
 "cells": [
  {
   "cell_type": "code",
   "execution_count": 1,
   "id": "364857a1-f612-459a-b378-527a1576284f",
   "metadata": {},
   "outputs": [
    {
     "data": {
      "image/png": "[encoded data removed]",
      "text/plain": [
       "<PIL.Image.Image image mode=RGB size=400x400>"
      ]
     },
     "execution_count": 1,
     "metadata": {},
     "output_type": "execute_result"
    }
   ],
   "source": [
    "size(400, 400)\n",
    "background(233, 195, 91)\n",
    "rect_size = 40\n",
    "a = 180            # alpha\n",
    "rect_size_2 = rect_size//2\n",
    "rect_mode(CENTER)\n",
    "for _ in range(50):\n",
    "    fill(random_int(50, 200), random_int(50, 200), random_int(50, 200), a)\n",
    "    rect(random_int(rect_size_2, width-rect_size_2),\n",
    "         random_int(rect_size_2, height-rect_size_2), rect_size, rect_size)"
   ]
  },
  {
   "cell_type": "code",
   "execution_count": null,
   "id": "048a4c8d-6e5d-462c-9071-2da63b383ef4",
   "metadata": {},
   "outputs": [],
   "source": []
  },
  {
   "cell_type": "code",
   "execution_count": null,
   "id": "6e7e96a6-301a-498c-b4fa-c64ef941cfcd",
   "metadata": {},
   "outputs": [],
   "source": []
  }
 ],
 "metadata": {
  "kernelspec": {
   "display_name": "base",
   "language": "python",
   "name": "python3"
  },
  "language_info": {
   "codemirror_mode": {
    "name": "ipython",
    "version": 3
   },
   "file_extension": ".py",
   "mimetype": "text/x-python",
   "name": "python",
   "nbconvert_exporter": "python",
   "pygments_lexer": "ipython3",
   "version": "3.10.9"
  }
 },
 "nbformat": 4,
 "nbformat_minor": 5
}
