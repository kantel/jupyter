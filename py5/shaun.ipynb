{
 "cells": [
  {
   "cell_type": "markdown",
   "id": "a18a88c1-3499-4599-a3ea-5b7024b9c991",
   "metadata": {},
   "source": [
    "## Settings"
   ]
  },
  {
   "cell_type": "code",
   "execution_count": 55,
   "id": "31b75542-1e7e-404b-b909-6e10d1116f7d",
   "metadata": {},
   "outputs": [],
   "source": [
    "%gui osx"
   ]
  },
  {
   "cell_type": "code",
   "execution_count": 56,
   "id": "1ab610fc-a4d8-4ec0-be8c-b7f8b2e12ece",
   "metadata": {},
   "outputs": [],
   "source": [
    "import py5\n",
    "\n",
    "window_width =  640     # 25x32\n",
    "window_height = 400     # 20x32\n",
    "patchsize = 32          # Zellgröße\n",
    "cols = window_width//patchsize\n",
    "rows = window_height//patchsize\n",
    "\n",
    "no_sheeps = 15          # Anzahl Schafe\n",
    "\n",
    "# Patchfarben\n",
    "BROWN = py5.color(102, 51, 0)\n",
    "GREEN = py5.color(0, 102, 0)\n"
   ]
  },
  {
   "cell_type": "code",
   "execution_count": 57,
   "id": "93361055-7e7f-40b2-8ba8-48a19f43fc8f",
   "metadata": {},
   "outputs": [],
   "source": [
    "class Sheep:\n",
    "    \n",
    "    def __init__(self, x, y, im_l, im_r):\n",
    "        self.x = x*patchsize\n",
    "        self.y = y*patchsize\n",
    "        self.im_l = im_l\n",
    "        self.im_r = im_r\n",
    "        choice = py5.random(100)\n",
    "        if choice <= 50:\n",
    "            self.im = self.im_r\n",
    "        else:\n",
    "            self.im = self.im_l\n",
    "    \n",
    "    def update(self):\n",
    "        pass\n",
    "    \n",
    "    def display(self):\n",
    "        py5.image(self.im, self.x, self.y)\n",
    "        "
   ]
  },
  {
   "cell_type": "code",
   "execution_count": 58,
   "id": "19125365-668d-40fd-9643-42566d4a12dd",
   "metadata": {},
   "outputs": [],
   "source": [
    "# Farben der Schafe: blue, red, magenta, white, yellow\n",
    "colors = [\"blue\", \"red\", \"magenta\", \"white\", \"yellow\"]\n",
    "sheeps = []           # Array Schafe\n"
   ]
  },
  {
   "cell_type": "code",
   "execution_count": 59,
   "id": "bc647309-7ece-4edb-bb72-8ee74a9e2a69",
   "metadata": {},
   "outputs": [],
   "source": [
    "def settings():\n",
    "    py5.size(window_width, window_height)    \n"
   ]
  },
  {
   "cell_type": "code",
   "execution_count": 60,
   "id": "7a6e286e-2e92-40fc-b2aa-627842fb75ed",
   "metadata": {},
   "outputs": [],
   "source": [
    "def setup():\n",
    "    py5.window_title(\"Shaun das Schaf – es kann nur eine Farbe siegen!\")\n",
    "    py5.window_move(1300, 30)\n",
    "    \n",
    "    # Bilder laden\n",
    "    ## Blaue Schafe\n",
    "    blue_left = py5.load_image(\"data/sheep_left_blue.png\")\n",
    "    blue_right = py5.load_image(\"data/sheep_right_blue.png\")\n",
    "    ## Rote Schafe\n",
    "    red_left = py5.load_image(\"data/sheep_left_red.png\")\n",
    "    red_right = py5.load_image(\"data/sheep_right_red.png\")\n",
    "    ## Rosa Schafe\n",
    "    magenta_left = py5.load_image(\"data/sheep_left_magenta.png\")\n",
    "    magenta_right = py5.load_image(\"data/sheep_right_magenta.png\")\n",
    "    ## Weiße Schafe\n",
    "    white_left = py5.load_image(\"data/sheep_left_white.png\")\n",
    "    white_right = py5.load_image(\"data/sheep_right_white.png\")\n",
    "    ## Gelbe Schafe\n",
    "    yellow_left = py5.load_image(\"data/sheep_left_yellow.png\")\n",
    "    yellow_right = py5.load_image(\"data/sheep_right_yellow.png\")\n",
    "    \n",
    "    # Schafe initialisieren\n",
    "    for _ in range(no_sheeps):\n",
    "        c = py5.random_choice(colors)\n",
    "        if c == \"blue\":\n",
    "            im_l, im_r = blue_left, blue_right\n",
    "        elif c == \"red\":\n",
    "            im_l, im_r = red_left, red_right\n",
    "        elif c == \"magenta\":\n",
    "            im_l, im_r = magenta_left, magenta_right\n",
    "        elif c == \"white\":\n",
    "            im_l, im_r = white_left, white_right\n",
    "        elif c == \"yellow\":\n",
    "            im_l, im_r = yellow_left, yellow_right\n",
    "        sheep = Sheep(py5.random(2, cols - 2), py5.random(2, rows - 2), im_l, im_r)\n",
    "        sheeps.append(sheep)"
   ]
  },
  {
   "cell_type": "code",
   "execution_count": 61,
   "id": "d096d3d6-ee6b-4e48-9281-4e0cb8252e5e",
   "metadata": {},
   "outputs": [],
   "source": [
    "def draw():\n",
    "    py5.background(GREEN)\n",
    "    for sheep in sheeps:\n",
    "        sheep.update()\n",
    "        sheep.display()\n",
    "        "
   ]
  },
  {
   "cell_type": "code",
   "execution_count": 62,
   "id": "c2014bd0-eb7b-4dbe-8655-1ea877fe13da",
   "metadata": {},
   "outputs": [],
   "source": [
    "# this is only needed to run the Sketch in Jupyter Notebooks; see note below\n",
    "py5.run_sketch(block = False)"
   ]
  }
 ],
 "metadata": {
  "kernelspec": {
   "display_name": "Python 3 (ipykernel)",
   "language": "python",
   "name": "python3"
  },
  "language_info": {
   "codemirror_mode": {
    "name": "ipython",
    "version": 3
   },
   "file_extension": ".py",
   "mimetype": "text/x-python",
   "name": "python",
   "nbconvert_exporter": "python",
   "pygments_lexer": "ipython3",
   "version": "3.10.9"
  }
 },
 "nbformat": 4,
 "nbformat_minor": 5
}
