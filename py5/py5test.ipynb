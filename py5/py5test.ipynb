def setup():
    size(300, 200)
    rect_mode(CENTER)

def draw():
    rect(mouse_x, mouse_y, 10, 10)

# this is only needed to run the Sketch in Jupyter Notebooks; see note below
run_sketch()