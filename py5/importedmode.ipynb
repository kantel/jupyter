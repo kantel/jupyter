{
 "cells": [
  {
   "cell_type": "code",
   "execution_count": 3,
   "id": "c0a5663a-d7f0-4489-9624-c0dd58cee594",
   "metadata": {
    "tags": []
   },
   "outputs": [],
   "source": [
    "def setup():\n",
    "    size(300, 200)\n",
    "    rect_mode(CENTER)"
   ]
  },
  {
   "cell_type": "code",
   "execution_count": 4,
   "id": "7e3dabb6-eb48-4d7b-863b-b214a646d002",
   "metadata": {
    "tags": []
   },
   "outputs": [],
   "source": [
    "def draw():\n",
    "    rect(mouse_x, mouse_y, 10, 10)"
   ]
  },
  {
   "cell_type": "markdown",
   "id": "369ad419-b2ce-4734-933a-5eb9b8cf1742",
   "metadata": {},
   "source": [
    "Das ist nur nötig, wenn der Sketch als **Jupyter Notebook** ausgeführt wird."
   ]
  },
  {
   "cell_type": "code",
   "execution_count": 5,
   "id": "22f6ac69-7701-4472-b729-76039d346748",
   "metadata": {},
   "outputs": [],
   "source": [
    "run_sketch()"
   ]
  }
 ],
 "metadata": {
  "kernelspec": {
   "display_name": "py5",
   "language": "python",
   "name": "py5"
  },
  "language_info": {
   "codemirror_mode": {
    "name": "ipython",
    "version": 3
   },
   "file_extension": ".py",
   "mimetype": "text/x-python",
   "name": "python",
   "nbconvert_exporter": "python",
   "pygments_lexer": "ipython3",
   "version": "3.10.9"
  }
 },
 "nbformat": 4,
 "nbformat_minor": 5
}
