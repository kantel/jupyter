{
  "cells": [
    {
      "cell_type": "code",
      "source": [
        "import numpy as np\n",
        "import matplotlib.pyplot as plt\n",
        "%matplotlib inline"
      ],
      "outputs": [],
      "execution_count": 7,
      "metadata": {
        "collapsed": true,
        "execution": {
          "iopub.status.busy": "2020-05-11T15:51:12.067Z",
          "iopub.execute_input": "2020-05-11T15:51:12.072Z",
          "iopub.status.idle": "2020-05-11T15:51:12.081Z",
          "shell.execute_reply": "2020-05-11T15:51:12.026Z"
        }
      }
    },
    {
      "cell_type": "code",
      "source": [
        "def logistic(r, x):\n",
        "    return r*x*(1-x)"
      ],
      "outputs": [],
      "execution_count": 8,
      "metadata": {
        "collapsed": true,
        "execution": {
          "iopub.status.busy": "2020-05-11T15:51:12.091Z",
          "iopub.execute_input": "2020-05-11T15:51:12.096Z",
          "iopub.status.idle": "2020-05-11T15:51:12.103Z",
          "shell.execute_reply": "2020-05-11T15:51:12.032Z"
        }
      }
    },
    {
      "cell_type": "code",
      "source": [
        "n = 10000\n",
        "r = np.linspace(2.5, 4.0, n)"
      ],
      "outputs": [],
      "execution_count": 9,
      "metadata": {
        "collapsed": true,
        "execution": {
          "iopub.status.busy": "2020-05-11T15:51:12.114Z",
          "iopub.execute_input": "2020-05-11T15:51:12.121Z",
          "iopub.status.idle": "2020-05-11T15:51:12.131Z",
          "shell.execute_reply": "2020-05-11T15:51:12.038Z"
        }
      }
    },
    {
      "cell_type": "code",
      "source": [
        "iterations = 1000\n",
        "last = 100"
      ],
      "outputs": [],
      "execution_count": 10,
      "metadata": {
        "collapsed": true,
        "execution": {
          "iopub.status.busy": "2020-05-11T15:51:12.140Z",
          "iopub.execute_input": "2020-05-11T15:51:12.145Z",
          "iopub.status.idle": "2020-05-11T15:51:12.151Z",
          "shell.execute_reply": "2020-05-11T15:51:12.048Z"
        }
      }
    },
    {
      "cell_type": "code",
      "source": [
        "x = 1e-5*np.ones(n)"
      ],
      "outputs": [],
      "execution_count": 11,
      "metadata": {
        "collapsed": true,
        "execution": {
          "iopub.status.busy": "2020-05-11T15:51:12.159Z",
          "iopub.execute_input": "2020-05-11T15:51:12.164Z",
          "iopub.status.idle": "2020-05-11T15:51:12.170Z",
          "shell.execute_reply": "2020-05-11T15:51:12.056Z"
        }
      }
    },
    {
      "cell_type": "code",
      "source": [
        "plt.subplot(211)\n",
        "for i in range(iterations):\n",
        "    x = logistic(r, x)\n",
        "    # lyapunov += np.log(abs(r - 2*r*x))\n",
        "    if i >= (iterations - last):\n",
        "        plt.plot(r, x, \",k\", alpha = .02)\n",
        "    plt.xlim(2.5, 4)\n",
        "    plt.title(\"Feigenbaum-Diagramm\")\n",
        "    \n"
      ],
      "outputs": [
        {
          "output_type": "display_data",
          "data": {
            "text/plain": [
              "<Figure size 432x288 with 1 Axes>"
            ],
            "image/png": "[encoded data removed]"
          },
          "metadata": {
            "needs_background": "light"
          }
        }
      ],
      "execution_count": 12,
      "metadata": {
        "execution": {
          "iopub.status.busy": "2020-05-11T15:51:12.178Z",
          "iopub.execute_input": "2020-05-11T15:51:12.185Z",
          "iopub.status.idle": "2020-05-11T15:51:13.020Z",
          "shell.execute_reply": "2020-05-11T15:51:13.031Z"
        }
      }
    },
    {
      "cell_type": "code",
      "source": [],
      "outputs": [],
      "execution_count": null,
      "metadata": {
        "collapsed": true
      }
    }
  ],
  "metadata": {
    "kernelspec": {
      "display_name": "Python 3",
      "language": "python",
      "name": "python3"
    },
    "language_info": {
      "name": "python",
      "version": "3.7.2",
      "mimetype": "text/x-python",
      "codemirror_mode": {
        "name": "ipython",
        "version": 3
      },
      "pygments_lexer": "ipython3",
      "nbconvert_exporter": "python",
      "file_extension": ".py"
    },
    "nteract": {
      "version": "0.23.1"
    }
  },
  "nbformat": 4,
  "nbformat_minor": 2
}