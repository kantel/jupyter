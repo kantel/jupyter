{
  "cells": [
    {
      "cell_type": "markdown",
      "source": [
        "# Feigenbaum-Diagramm mit Lyapunov-Exponenten"
      ],
      "metadata": {}
    },
    {
      "cell_type": "markdown",
      "source": [
        "Zuerst importieren wir die benötigten Pakete Numpy und die Matplotlib"
      ],
      "metadata": {}
    },
    {
      "cell_type": "code",
      "source": [
        "import numpy as np\n",
        "import matplotlib.pyplot as plt\n",
        "# %matplotlib inline"
      ],
      "outputs": [],
      "execution_count": 9,
      "metadata": {
        "execution": {
          "iopub.status.busy": "2020-07-05T18:08:48.969Z",
          "iopub.execute_input": "2020-07-05T18:08:48.982Z",
          "iopub.status.idle": "2020-07-05T18:08:49.007Z",
          "shell.execute_reply": "2020-07-05T18:08:49.027Z"
        }
      }
    },
    {
      "cell_type": "markdown",
      "source": [
        "Dann implementieren wir die logistische Funktion"
      ],
      "metadata": {}
    },
    {
      "cell_type": "code",
      "source": [
        "def logistic(r, x):\n",
        "    return r*x*(1-x)"
      ],
      "outputs": [],
      "execution_count": 10,
      "metadata": {
        "execution": {
          "iopub.status.busy": "2020-07-05T18:08:53.155Z",
          "iopub.execute_input": "2020-07-05T18:08:53.165Z",
          "iopub.status.idle": "2020-07-05T18:08:53.185Z",
          "shell.execute_reply": "2020-07-05T18:08:53.197Z"
        }
      }
    },
    {
      "cell_type": "raw",
      "source": [
        "Zur Berechnung der Funktion wird ein Array mit 10.000 Werten implementiert, die zwischen 2,5 und 4 gleichverteilt sind:"
      ],
      "metadata": {}
    },
    {
      "cell_type": "code",
      "source": [
        "n = 10000\n",
        "r = np.linspace(2.5, 4.0, n)"
      ],
      "outputs": [],
      "execution_count": 11,
      "metadata": {
        "execution": {
          "iopub.status.busy": "2020-07-05T18:08:57.910Z",
          "iopub.execute_input": "2020-07-05T18:08:57.919Z",
          "iopub.status.idle": "2020-07-05T18:08:57.938Z",
          "shell.execute_reply": "2020-07-05T18:08:57.949Z"
        }
      }
    },
    {
      "cell_type": "markdown",
      "source": [
        "Das Programm soll 1.000 Iterationen der logistischen Gleichung durchlaufen und die letzten 100 sollen für das Bifurkations-Diagramm genutzt werden."
      ],
      "metadata": {}
    },
    {
      "cell_type": "code",
      "source": [
        "iterations = 1000\n",
        "last = 100"
      ],
      "outputs": [],
      "execution_count": 12,
      "metadata": {
        "execution": {
          "iopub.status.busy": "2020-07-05T18:09:01.318Z",
          "iopub.execute_input": "2020-07-05T18:09:01.330Z",
          "iopub.status.idle": "2020-07-05T18:09:01.348Z",
          "shell.execute_reply": "2020-07-05T18:09:01.361Z"
        }
      }
    },
    {
      "cell_type": "markdown",
      "source": [
        "Wir initialisieren das System mit $x_0 = 0.00001$:"
      ],
      "metadata": {}
    },
    {
      "cell_type": "code",
      "source": [
        "x = 1e-5 * np.ones(n)"
      ],
      "outputs": [],
      "execution_count": 5,
      "metadata": {
        "execution": {
          "iopub.status.busy": "2020-07-05T17:59:53.250Z",
          "iopub.execute_input": "2020-07-05T17:59:53.265Z",
          "iopub.status.idle": "2020-07-05T17:59:53.282Z",
          "shell.execute_reply": "2020-07-05T17:59:53.052Z"
        }
      }
    },
    {
      "cell_type": "markdown",
      "source": [
        "Zur Berechnung des Lyanpunov-Exponenten initialisieren wir als erstes den `lyapunov`-Vektor:"
      ],
      "metadata": {}
    },
    {
      "cell_type": "code",
      "source": [
        "lyapunov = np.zeros(n)"
      ],
      "outputs": [],
      "execution_count": 6,
      "metadata": {
        "execution": {
          "iopub.status.busy": "2020-07-05T17:59:53.309Z",
          "iopub.execute_input": "2020-07-05T17:59:53.324Z",
          "iopub.status.idle": "2020-07-05T17:59:53.335Z",
          "shell.execute_reply": "2020-07-05T17:59:53.067Z"
        }
      }
    },
    {
      "cell_type": "markdown",
      "source": [
        "Und nun noch die Plots ein wenig aufhübschen:"
      ],
      "metadata": {}
    },
    {
      "cell_type": "code",
      "source": [
        "plt.style.use(\"ggplot\")"
      ],
      "outputs": [],
      "execution_count": 7,
      "metadata": {
        "execution": {
          "iopub.status.busy": "2020-07-05T17:59:53.352Z",
          "iopub.execute_input": "2020-07-05T17:59:53.368Z",
          "iopub.status.idle": "2020-07-05T17:59:53.379Z",
          "shell.execute_reply": "2020-07-05T17:59:53.080Z"
        }
      }
    },
    {
      "cell_type": "markdown",
      "source": [
        "Nun folgt das eigentliche Programm:"
      ],
      "metadata": {}
    },
    {
      "cell_type": "code",
      "source": [
        "plt.subplots_adjust(hspace = 0.6)\n",
        "\n",
        "plt.subplot(211)\n",
        "for i in range(iterations):\n",
        "    x = logistic(r, x)\n",
        "    lyapunov += np.log(abs(r - 2*r*x))\n",
        "    if i >= (iterations - last):\n",
        "        plt.plot(r, x, \", k\", alpha = 0.02)\n",
        "plt.xlim(2.5, 4)\n",
        "plt.title(\"Feigenbaum-Diagramm\")\n",
        "\n",
        "plt.subplot(212)\n",
        "plt.plot(r[lyapunov < 0], lyapunov[lyapunov < 0]/iterations, \",k\", alpha = 0.1)\n",
        "plt.plot(r[lyapunov >= 0], lyapunov[lyapunov >= 0] / iterations, \",r\", alpha = 0.25)\n",
        "plt.xlim(2.5, 4.0)\n",
        "plt.ylim(-2, 1)\n",
        "plt.title(\"Lyapunov-Exponent\")"
      ],
      "outputs": [
        {
          "output_type": "execute_result",
          "execution_count": 8,
          "data": {
            "text/plain": "Text(0.5, 1.0, 'Lyapunov-Exponent')"
          },
          "metadata": {}
        },
        {
          "output_type": "display_data",
          "data": {
            "text/plain": "<Figure size 432x288 with 2 Axes>",
            "image/png": "[encoded data removed]"
          },
          "metadata": {}
        }
      ],
      "execution_count": 8,
      "metadata": {
        "execution": {
          "iopub.status.busy": "2020-07-05T17:59:53.399Z",
          "iopub.execute_input": "2020-07-05T17:59:53.410Z",
          "iopub.status.idle": "2020-07-05T17:59:54.363Z",
          "shell.execute_reply": "2020-07-05T17:59:54.384Z"
        }
      }
    },
    {
      "cell_type": "markdown",
      "source": [
        "Wir sehen einen Fixpunkt bei `r < 3.0` und der Lyapunov-Exponent ist positiv (hier in rot markiert), wenn das System chaotisch wird."
      ],
      "metadata": {}
    },
    {
      "cell_type": "code",
      "source": [],
      "outputs": [],
      "execution_count": null,
      "metadata": {}
    }
  ],
  "metadata": {
    "kernelspec": {
      "display_name": "Python 3",
      "language": "python",
      "name": "python3"
    },
    "language_info": {
      "name": "python",
      "version": "3.7.7",
      "mimetype": "text/x-python",
      "codemirror_mode": {
        "name": "ipython",
        "version": 3
      },
      "pygments_lexer": "ipython3",
      "nbconvert_exporter": "python",
      "file_extension": ".py"
    },
    "nteract": {
      "version": "0.24.0"
    }
  },
  "nbformat": 4,
  "nbformat_minor": 2
}