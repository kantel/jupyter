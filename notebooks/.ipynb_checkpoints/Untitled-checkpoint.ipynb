{
 "cells": [
  {
   "cell_type": "code",
   "execution_count": 1,
   "metadata": {},
   "outputs": [],
   "source": [
    "from canvas import Canvas"
   ]
  },
  {
   "cell_type": "code",
   "execution_count": 2,
   "metadata": {},
   "outputs": [
    {
     "data": {
      "application/javascript": [
       "\n",
       "element.append(\"<canvas id='canvas_1' width=200 height=200 style='background-color: #f0f0f0'></canvas>\")\n"
      ],
      "text/plain": [
       "<IPython.core.display.Javascript object>"
      ]
     },
     "metadata": {},
     "output_type": "display_data"
    }
   ],
   "source": [
    "c = Canvas()"
   ]
  },
  {
   "cell_type": "code",
   "execution_count": 4,
   "metadata": {},
   "outputs": [
    {
     "data": {
      "application/javascript": [
       "\n",
       "var context = document.getElementById('canvas_1').getContext(\"2d\")\n",
       "\n",
       "context.fillStyle = '#40ff40'\n",
       "context.beginPath()\n",
       "context.moveTo(100.0, 90.0)\n",
       "context.lineTo(97.6634899461481, 95.52636596401732)\n",
       "context.lineTo(102.3365100538519, 95.52636596401732)\n",
       "context.closePath()\n",
       "context.fill()\n"
      ],
      "text/plain": [
       "<IPython.core.display.Javascript object>"
      ]
     },
     "metadata": {},
     "output_type": "display_data"
    }
   ],
   "source": [
    "c.drawAxes()\n"
   ]
  },
  {
   "cell_type": "code",
   "execution_count": 5,
   "metadata": {},
   "outputs": [
    {
     "data": {
      "application/javascript": [
       "\n",
       "var context = document.getElementById('canvas_1').getContext(\"2d\")\n",
       "\n",
       "context.fillStyle = 'black'\n",
       "context.beginPath()\n",
       "context.arc(120.0, 90.0, 1, 0, 2 * Math.PI, false)\n",
       "context.fill()\n",
       "\n"
      ],
      "text/plain": [
       "<IPython.core.display.Javascript object>"
      ]
     },
     "metadata": {},
     "output_type": "display_data"
    }
   ],
   "source": [
    "c.drawPoint((2, 1))"
   ]
  },
  {
   "cell_type": "code",
   "execution_count": 6,
   "metadata": {},
   "outputs": [],
   "source": [
    "from math import sin, cos, pi"
   ]
  },
  {
   "cell_type": "code",
   "execution_count": 7,
   "metadata": {},
   "outputs": [],
   "source": [
    "def circlePoint(alpha):\n",
    "    return(2 + 3*cos(alpha), 1 + 3*sin(alpha))"
   ]
  },
  {
   "cell_type": "code",
   "execution_count": 9,
   "metadata": {},
   "outputs": [],
   "source": [
    "def draw(c):\n",
    "    c.clear()\n",
    "    c.drawAxes()\n",
    "    c.drawGrid()\n",
    "    alpha = 0\n",
    "    while alpha < 2*pi:\n",
    "        c.drawPoint(circlePoint(alpha))\n",
    "        alpha += .05"
   ]
  },
  {
   "cell_type": "code",
   "execution_count": 10,
   "metadata": {},
   "outputs": [
    {
     "data": {
      "application/javascript": [
       "\n",
       "var context = document.getElementById('canvas_1').getContext(\"2d\")\n",
       "\n",
       "context.fillStyle = 'black'\n",
       "context.beginPath()\n",
       "context.arc(149.98348254673496, 90.99537649642713, 1, 0, 2 * Math.PI, false)\n",
       "context.fill()\n",
       "\n"
      ],
      "text/plain": [
       "<IPython.core.display.Javascript object>"
      ]
     },
     "metadata": {},
     "output_type": "display_data"
    }
   ],
   "source": [
    "draw(c)"
   ]
  },
  {
   "cell_type": "code",
   "execution_count": null,
   "metadata": {},
   "outputs": [],
   "source": []
  }
 ],
 "metadata": {
  "kernelspec": {
   "display_name": "Python [conda env:anaconda]",
   "language": "python",
   "name": "conda-env-anaconda-py"
  },
  "language_info": {
   "codemirror_mode": {
    "name": "ipython",
    "version": 3
   },
   "file_extension": ".py",
   "mimetype": "text/x-python",
   "name": "python",
   "nbconvert_exporter": "python",
   "pygments_lexer": "ipython3",
   "version": "3.6.5"
  }
 },
 "nbformat": 4,
 "nbformat_minor": 2
}
