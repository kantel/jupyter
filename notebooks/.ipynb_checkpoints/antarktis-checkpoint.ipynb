{
 "cells": [
  {
   "cell_type": "markdown",
   "metadata": {},
   "source": [
    "# Antarktis: Wenn das Eis schmilzt\n",
    "\n",
    "Der [Kontinent Antarktika](de.wikipedia.org/wiki/Antarktis) ist mit fast 13,2 Millionen km² um etwa 2,7 Millionen km² größer als Europa. Im antarktischen Inlandeis sind etwa 90 Prozent des Eises und knapp 70 Prozent des Süßwassers der Erde gebunden. Das Festland ist erst seit relativ kurzer Zeit (seit etwa 15 Millionen Jahren) vereist. Für die durchschnittliche Eisdicke wird ein Wert von 2,16 km angenommen, die maximale bekannte Eisdicke wurde mit 4776 Metern in *Adélieland* gemessen. Um wieviel Meter steigt der Meeresspiegel, wenn das Eis zur Gänze schmilzt?"
   ]
  },
  {
   "cell_type": "markdown",
   "metadata": {},
   "source": [
    "Wir rechnen mit der Einheit km. Laut Wikipedia wird das Eisvolumen (ohne Schelfeis) auf 26.370.000 km³ geschätzt. Beim Schmelzen verliert das Eis etwa 10 Prozent seines Volumens, wodurch immer noch etwa"
   ]
  },
  {
   "cell_type": "code",
   "execution_count": 9,
   "metadata": {
    "collapsed": false
   },
   "outputs": [
    {
     "data": {
      "text/plain": [
       "23.7330000000000"
      ]
     },
     "execution_count": 9,
     "metadata": {},
     "output_type": "execute_result"
    }
   ],
   "source": [
    "26.37*0.9"
   ]
  },
  {
   "cell_type": "markdown",
   "metadata": {},
   "source": [
    "23.73 Millionen km³ übrigbleiben.\n",
    "\n",
    "Die Erde hat etwa [510 Millionen km² Oberfläche](https://de.wikipedia.org/wiki/Erdoberfl%C3%A4che) (510 * 10<sup>6</sup> km<sup>2</sup>), Davon sind etwa 70,7 Prozent ≈ 360.6 * 10<sup>6</sup> km² Wasser. Sei ∆ der Höhenunterschied des Meeresspiegels, dann gilt\n",
    "\n",
    "360.6 * 10<sup>6</sup> km² * ∆ = 23.73 * 10<sup>6</sup> km²\n",
    "\n",
    "Daraus folgt, daß ∆ ungefähr"
   ]
  },
  {
   "cell_type": "code",
   "execution_count": 10,
   "metadata": {
    "collapsed": false
   },
   "outputs": [
    {
     "data": {
      "text/plain": [
       "0.0658069883527454"
      ]
     },
     "execution_count": 10,
     "metadata": {},
     "output_type": "execute_result"
    }
   ],
   "source": [
    "23.73/360.6"
   ]
  },
  {
   "cell_type": "markdown",
   "metadata": {},
   "source": [
    "beträgt. Das sind etwas weniger als 66 Meter, um die der Meeresspiegel im Durchschnitt steigen würde."
   ]
  },
  {
   "cell_type": "raw",
   "metadata": {},
   "source": []
  }
 ],
 "metadata": {
  "kernelspec": {
   "display_name": "SageMath 8.0",
   "language": "",
   "name": "sagemath"
  },
  "language_info": {
   "codemirror_mode": {
    "name": "ipython",
    "version": 2
   },
   "file_extension": ".py",
   "mimetype": "text/x-python",
   "name": "python",
   "nbconvert_exporter": "python",
   "pygments_lexer": "ipython2",
   "version": "2.7.13"
  }
 },
 "nbformat": 4,
 "nbformat_minor": 2
}
